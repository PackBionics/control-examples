{
 "cells": [
  {
   "cell_type": "code",
   "execution_count": 1,
   "id": "a616fd52",
   "metadata": {},
   "outputs": [],
   "source": [
    "import numpy as np\n",
    "import matplotlib.pyplot as plt\n",
    "import cv2\n",
    "\n",
    "heightmap = np.load('./heightmap.npy')"
   ]
  },
  {
   "cell_type": "code",
   "execution_count": 2,
   "id": "156936af",
   "metadata": {},
   "outputs": [
    {
     "data": {
      "text/plain": [
       "<matplotlib.image.AxesImage at 0x7f1ad0728490>"
      ]
     },
     "execution_count": 2,
     "metadata": {},
     "output_type": "execute_result"
    },
    {
     "data": {
      "image/png": "[encoded data removed]",
      "text/plain": [
       "<Figure size 432x288 with 1 Axes>"
      ]
     },
     "metadata": {
      "needs_background": "light"
     },
     "output_type": "display_data"
    }
   ],
   "source": [
    "plt.imshow(heightmap)"
   ]
  },
  {
   "cell_type": "code",
   "execution_count": 32,
   "id": "5c250877",
   "metadata": {},
   "outputs": [
    {
     "data": {
      "text/plain": [
       "<matplotlib.image.AxesImage at 0x7f1ace2f8be0>"
      ]
     },
     "execution_count": 32,
     "metadata": {},
     "output_type": "execute_result"
    },
    {
     "data": {
      "image/png": "[encoded data removed]",
      "text/plain": [
       "<Figure size 432x288 with 1 Axes>"
      ]
     },
     "metadata": {
      "needs_background": "light"
     },
     "output_type": "display_data"
    },
    {
     "data": {
      "image/png": "[encoded data removed]",
      "text/plain": [
       "<Figure size 432x288 with 1 Axes>"
      ]
     },
     "metadata": {
      "needs_background": "light"
     },
     "output_type": "display_data"
    }
   ],
   "source": [
    "def compute_traversibility(heightmap):\n",
    "    # compute sobel gradient in x and y direction\n",
    "    sobel_x = cv2.Sobel(heightmap, cv2.CV_64F, 1, 0, ksize=5)\n",
    "    # compute sobel gradient in y direction\n",
    "    sobel_y = cv2.Sobel(heightmap, cv2.CV_64F, 0, 1, ksize=5)\n",
    "\n",
    "    gradient_map = np.maximum(np.abs(sobel_x), np.abs(sobel_y))\n",
    "    traversibility_map = np.zeros(gradient_map.shape)\n",
    "\n",
    "    traversibility_map[gradient_map < 3.2] = 1\n",
    "    traversibility_map[np.where((gradient_map >=3.2) & (gradient_map < 2900))]  = 2\n",
    "\n",
    "\n",
    "    return traversibility_map, gradient_map\n",
    "    \n",
    "traversibility, gradient = compute_traversibility(heightmap)\n",
    "plt.figure()\n",
    "plt.imshow(traversibility)\n",
    "plt.figure()\n",
    "plt.imshow(gradient_map)"
   ]
  },
  {
   "cell_type": "code",
   "execution_count": null,
   "id": "7a230acb",
   "metadata": {},
   "outputs": [],
   "source": [
    "# finding convex poly"
   ]
  },
  {
   "cell_type": "code",
   "execution_count": 33,
   "id": "09f2ac25",
   "metadata": {},
   "outputs": [
    {
     "data": {
      "text/plain": [
       "(63, 33)"
      ]
     },
     "execution_count": 33,
     "metadata": {},
     "output_type": "execute_result"
    }
   ],
   "source": [
    "heightmap_resolution = 0.01 #TODO: find out the actual value for this\n",
    "l_foot_0 = [5,22]\n",
    "r_foot_0 = [0,16]\n",
    "\n"
   ]
  },
  {
   "cell_type": "code",
   "execution_count": null,
   "id": "5d07b7c8",
   "metadata": {},
   "outputs": [],
   "source": []
  }
 ],
 "metadata": {
  "kernelspec": {
   "display_name": "Python 3",
   "language": "python",
   "name": "python3"
  },
  "language_info": {
   "codemirror_mode": {
    "name": "ipython",
    "version": 3
   },
   "file_extension": ".py",
   "mimetype": "text/x-python",
   "name": "python",
   "nbconvert_exporter": "python",
   "pygments_lexer": "ipython3",
   "version": "3.8.10"
  }
 },
 "nbformat": 4,
 "nbformat_minor": 5
}
